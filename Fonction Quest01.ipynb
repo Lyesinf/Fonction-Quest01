{
 "cells": [
  {
   "cell_type": "code",
   "execution_count": null,
   "id": "dc20187d",
   "metadata": {},
   "outputs": [],
   "source": [
    "def maxi(a,b,c):\n",
    "    return max(a,b,c)\n",
    "print(maxi(20,35,19))"
   ]
  }
 ],
 "metadata": {
  "kernelspec": {
   "display_name": "Python 3 (ipykernel)",
   "language": "python",
   "name": "python3"
  },
  "language_info": {
   "codemirror_mode": {
    "name": "ipython",
    "version": 3
   },
   "file_extension": ".py",
   "mimetype": "text/x-python",
   "name": "python",
   "nbconvert_exporter": "python",
   "pygments_lexer": "ipython3",
   "version": "3.9.7"
  }
 },
 "nbformat": 4,
 "nbformat_minor": 5
}
